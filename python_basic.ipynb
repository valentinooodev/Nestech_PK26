{
 "cells": [
  {
   "attachments": {},
   "cell_type": "markdown",
   "metadata": {},
   "source": [
    "## Biến\n",
    "\n",
    "### Gán giá trị cho 1 biến\n",
    "Cú pháp:\n",
    "```python\n",
    "tên_biến = giá_trị\n",
    "```\n",
    "\n",
    "### Quy tắc đặt tên biến:\n",
    "- Chỉ bao gồm a-Z, 0-9 và dấu _\n",
    "- Không được chứa số ở đầu tên biến\n",
    "- Phân biệt chữ in hoa, in thường\n",
    "- Không sử dụng keyword làm tên biến\n",
    "\n",
    "### Gán giá trị cho nhiều biến một lúc\n",
    "Cú pháp:\n",
    "```python\n",
    "biến_1, biến_2 = giá_trị_1, giá_trị_2\n",
    "```\n",
    "\n",
    "## Đổi giá trị của 2 biến\n",
    "Cú pháp:\n",
    "```python\n",
    "biến_1, biến_2 =  biến_2, biến_1\n",
    "```\n",
    "\n",
    "## In ra giá trị của biến, kiểu dữ liệu của biến\n",
    "Cú pháp:\n",
    "```python\n",
    "print(tên_biến)\n",
    "print(type(tên_biến))\n",
    "```"
   ]
  },
  {
   "cell_type": "code",
   "execution_count": 1,
   "metadata": {},
   "outputs": [
    {
     "name": "stdout",
     "output_type": "stream",
     "text": [
      "10\n",
      "<class 'int'>\n",
      "Hello World\n",
      "<class 'str'>\n",
      "20\n",
      "<class 'int'>\n",
      "True\n",
      "<class 'bool'>\n",
      "3.2 5\n",
      "<class 'float'> <class 'int'>\n"
     ]
    }
   ],
   "source": [
    "# Gán giá trị cho một biến\n",
    "x = 10\n",
    "\n",
    "# Quy tắc đặt tên biến\n",
    "my_var = \"Hello World\"\n",
    "my_var_2 = 20\n",
    "_my_var_3 = True\n",
    "\n",
    "# Gán giá trị cho nhiều biến một lúc\n",
    "y, z = 5, 3.2\n",
    "\n",
    "# Đổi giá trị của 2 biến\n",
    "y, z = z, y\n",
    "\n",
    "# In ra giá trị của biến, kiểu dữ liệu của biến\n",
    "print(x)\n",
    "print(type(x))\n",
    "\n",
    "print(my_var)\n",
    "print(type(my_var))\n",
    "\n",
    "print(my_var_2)\n",
    "print(type(my_var_2))\n",
    "\n",
    "print(_my_var_3)\n",
    "print(type(_my_var_3))\n",
    "\n",
    "print(y, z)\n",
    "print(type(y), type(z))"
   ]
  },
  {
   "attachments": {},
   "cell_type": "markdown",
   "metadata": {},
   "source": [
    "## Các kiểu dữ liệu của python\n",
    "### Kiểu số:\n",
    "```python\n",
    "int, float, complex\n",
    "```\n",
    "### Kiểu chữ:\n",
    "```python\n",
    "str\n",
    "```\n",
    "### Kiểu tuần tự\n",
    "```python\n",
    "list, tuple, range\n",
    "```\n",
    "### Kiểu Ánh xạ\n",
    "```python\n",
    "dict\n",
    "```\n",
    "### Kiểu Set\n",
    "```python\n",
    "set, frozenset\n",
    "```\n",
    "### Kiểu Boolean\n",
    "```python\n",
    "bool\n",
    "```\n",
    "### Kiểu Binary\n",
    "```python\n",
    "bytes, bytearray, memoryview\n",
    "```\n",
    "### Kiểu None (Không tồn tại giá trị)\n",
    "```python\n",
    "None\n",
    "```"
   ]
  },
  {
   "cell_type": "code",
   "execution_count": 2,
   "metadata": {},
   "outputs": [],
   "source": [
    "my_int = 5\n",
    "my_float = 5.12\n",
    "my_str = \"something\"\n",
    "my_list = [1, 2, 3, \"abc\"]\n",
    "my_tuple = (1, 2, 3, \"abc\")\n",
    "my_range = range(1, 5)\n",
    "my_dict = {\"my_key\": \"my value\"}"
   ]
  },
  {
   "attachments": {},
   "cell_type": "markdown",
   "metadata": {},
   "source": [
    "## Ép kiểu\n",
    "```python\n",
    "tên_biến = kiểu_mong_muốn(tên biến)\n",
    "```"
   ]
  },
  {
   "cell_type": "code",
   "execution_count": 3,
   "metadata": {},
   "outputs": [
    {
     "name": "stdout",
     "output_type": "stream",
     "text": [
      "<class 'int'> 10\n"
     ]
    }
   ],
   "source": [
    "a = \"10\"\n",
    "a = int(a)\n",
    "print(type(a), a)"
   ]
  },
  {
   "attachments": {},
   "cell_type": "markdown",
   "metadata": {},
   "source": [
    "## String\n",
    "- Nằm giữa cặp dấu nháy đơn hoặc nháy kép\n",
    "- Nằm giữa cặp 3 dấu nháy đơn hoặc nháy kép\n",
    "\n",
    "## Chia nhỏ str\n",
    "cú pháp:\n",
    "```python\n",
    "tên biến = tên_str[bắt_đầu: kết_thúc]\n",
    "```\n",
    "\n",
    "# ghép nhiều str\n",
    "cú pháp:\n",
    "```python\n",
    "string_1 + string_2 + string_3\n",
    "```"
   ]
  },
  {
   "cell_type": "code",
   "execution_count": 4,
   "metadata": {},
   "outputs": [
    {
     "name": "stdout",
     "output_type": "stream",
     "text": [
      "est\n",
      "ab\n"
     ]
    }
   ],
   "source": [
    "str_1 = \"a\"\n",
    "str_2 = \"b\"\n",
    "str_3 = \"\"\"\n",
    "line 1\n",
    "line 2\n",
    "\"\"\"\n",
    "str_4 = \"\"\"\n",
    "line 1\n",
    "line 2\n",
    "\"\"\"\n",
    "\n",
    "a = \"nestech\"\n",
    "print(a[1:4])\n",
    "\n",
    "a = \"a\"\n",
    "b = \"b\"\n",
    "new_str = a + b\n",
    "print(new_str)"
   ]
  },
  {
   "attachments": {},
   "cell_type": "markdown",
   "metadata": {},
   "source": [
    "## Phép toán\n",
    "```python\n",
    "+  # cộng\n",
    "\n",
    "-  # trừ\n",
    "\n",
    "*  # nhân\n",
    "\n",
    "/  # chia\n",
    "\n",
    "%  # chia lấy dư\n",
    "\n",
    "//  # chia lấy phần nguyên\n",
    "\n",
    "**  # lũy thừa\n",
    "```\n",
    "\n",
    "## Cộng a thêm x đơn vị\n",
    "```python\n",
    "a += x\n",
    "```\n",
    "\n",
    "Tương tự với các phép toán khác\n"
   ]
  },
  {
   "cell_type": "code",
   "execution_count": 5,
   "metadata": {},
   "outputs": [
    {
     "name": "stdout",
     "output_type": "stream",
     "text": [
      "13\n",
      "7\n",
      "30\n",
      "3.3333333333333335\n",
      "1\n",
      "3\n",
      "1000\n",
      "15\n"
     ]
    }
   ],
   "source": [
    "# Khai báo và gán giá trị cho các biến\n",
    "a = 10\n",
    "b = 3\n",
    "\n",
    "# Các phép toán\n",
    "c = a + b    # 13\n",
    "d = a - b    # 7\n",
    "e = a * b    # 30\n",
    "f = a / b    # 3.3333333333333335\n",
    "g = a % b    # 1\n",
    "h = a // b   # 3\n",
    "i = a ** b   # 1000\n",
    "\n",
    "# In ra kết quả của các phép toán\n",
    "print(c)\n",
    "print(d)\n",
    "print(e)\n",
    "print(f)\n",
    "print(g)\n",
    "print(h)\n",
    "print(i)\n",
    "\n",
    "# Phép gán\n",
    "a += 5   # tương đương với a = a + 5\n",
    "\n",
    "# In ra giá trị mới của a\n",
    "print(a)  # 15"
   ]
  },
  {
   "attachments": {},
   "cell_type": "markdown",
   "metadata": {},
   "source": [
    "## Các phép so sánh\n",
    "```python\n",
    "==  # có bằng nhau hay không\n",
    "\n",
    "!=  # có khác nhau hay không\n",
    "\n",
    ">  # có lớn hơn không\n",
    "\n",
    "<  # Có nhỏ hơn không\n",
    "\n",
    ">=  # Lớn hơn hoặc bằng\n",
    "\n",
    "<=  # nhỏ hơn hoặc bằng\n",
    "```\n",
    "\n",
    "\n",
    "## Biểu thức logic:\n",
    "```python\n",
    "and  # và\n",
    "\n",
    "or  # hoặc\n",
    "\n",
    "not  # đảo ngược logic\n",
    "```\n"
   ]
  },
  {
   "cell_type": "code",
   "execution_count": 6,
   "metadata": {},
   "outputs": [
    {
     "name": "stdout",
     "output_type": "stream",
     "text": [
      "True\n",
      "True\n",
      "False\n",
      "True\n",
      "True\n",
      "True\n",
      "True\n",
      "False\n",
      "True\n",
      "False\n",
      "True\n"
     ]
    }
   ],
   "source": [
    "# Khai báo và gán giá trị cho các biến\n",
    "a = 5\n",
    "b = 10\n",
    "c = 5\n",
    "d = 15\n",
    "\n",
    "# Các phép so sánh\n",
    "print(a == c)  # True\n",
    "print(a != b)  # True\n",
    "print(b > d)   # False\n",
    "print(a < b)   # True\n",
    "print(a >= c)  # True\n",
    "print(b <= d)  # True\n",
    "\n",
    "# Biểu thức logic\n",
    "print(a < b and b < d)    # True, Đúng khi cả 2 vế cùng đúng\n",
    "print(a < b and b > d)    # False\n",
    "print(a < b or b > d)     # True, Đúng khi ít nhất 1 vế đúng\n",
    "print(not a == c)         # False\n",
    "print(not a != c)         # True"
   ]
  },
  {
   "attachments": {},
   "cell_type": "markdown",
   "metadata": {},
   "source": [
    "### List:\n",
    "- Dùng khi muốn thay đổi các phần tử trong nó (thêm, sửa, xóa)\n",
    "### Tuple:\n",
    "- Dùng khi không muốn thay đổi các phần tử sau này\n",
    "\n",
    "### Lấy phần tử trong list, tuple bằng vị trí (index):\n",
    "```python\n",
    "tên_biến[index]\n",
    "```\n",
    "\n",
    "### Chia nhỏ phần tử trong list, tuple\n",
    "```python\n",
    "tên_biến[vị_trí_bắt_đầu : vị_trí_kết_thúc : bước_nhảy]\n",
    "```\n",
    "\n",
    "### Gộp 2 list hoặc tuple bằng cách sử dụng phép +\n",
    "\n",
    "```python\n",
    "new_list = list_1 + list_2\n",
    "new_tuple = tuple_1 + tuple_2\n",
    "```\n",
    "\n",
    "### thêm phần tử vào list\n",
    "```python\n",
    "tên_biến.append(phần_tử)\n",
    "```\n",
    "\n",
    "### xóa phần tử trong list\n",
    "```python\n",
    "del tên_biến[index]\n",
    "```\n",
    "\n",
    "### Khai báo list rỗng\n",
    "```python\n",
    "a = list()\n",
    "a = []\n",
    "```"
   ]
  },
  {
   "cell_type": "code",
   "execution_count": 7,
   "metadata": {},
   "outputs": [],
   "source": [
    "# Khai báo một list rỗng\n",
    "a = []\n",
    "\n",
    "# Thêm phần tử vào list\n",
    "a.append(1)\n",
    "a.append(2)\n",
    "a.append(3)\n",
    "\n",
    "# Xóa phần tử trong list\n",
    "del a[0]\n",
    "\n",
    "# Khai báo một tuple\n",
    "b = (4, 5, 6)\n",
    "\n",
    "# Lấy phần tử trong list, tuple bằng vị trí (index)\n",
    "x = a[0]\n",
    "y = b[1]\n",
    "\n",
    "# Chia nhỏ phần tử trong list, tuple\n",
    "z = a[1:3]  # Lấy các phần tử từ vị trí 1 đến vị trí 2 (không bao gồm vị trí 3)\n",
    "w = b[::2]  # Lấy các phần tử ở vị trí chẵn (bắt đầu từ vị trí 0)\n",
    "\n",
    "# Gộp 2 list hoặc tuple bằng cách sử dụng phép +\n",
    "c = a + list(b)\n",
    "d = (1, 2) + b"
   ]
  },
  {
   "attachments": {},
   "cell_type": "markdown",
   "metadata": {},
   "source": [
    "## Dict\n",
    "### Khai báo dict rỗng\n",
    "a = dict()\n",
    "\n",
    "b = {}\n",
    "### thêm cặp key, value cho dict\n",
    "tên_dict[key] = value\n",
    "### lấy value trong dict\n",
    "\n",
    "tên_dict[key]  (không có key gây ra lỗi)\n",
    "\n",
    "tên_dict.get(key)  (không có key trả ra None)\n",
    "### Xóa cặp key, value trong dict\n",
    "del tên_dict[key]"
   ]
  },
  {
   "cell_type": "code",
   "execution_count": 8,
   "metadata": {},
   "outputs": [],
   "source": [
    "# Khai báo một dictionary rỗng\n",
    "a = dict()\n",
    "b = {}\n",
    "\n",
    "# Thêm một cặp key-value mới vào dictionary\n",
    "my_dict = {\"name\": \"John\", \"age\": 25}\n",
    "my_dict[\"address\"] = \"123 Main St\"\n",
    "\n",
    "# Lấy giá trị của một key trong dictionary\n",
    "name = my_dict[\"name\"]\n",
    "address = my_dict.get(\"address\")\n",
    "\n",
    "# Xóa một cặp key-value trong dictionary\n",
    "del my_dict[\"name\"]"
   ]
  },
  {
   "attachments": {},
   "cell_type": "markdown",
   "metadata": {},
   "source": [
    "## If-Else\n",
    "### Được sử dụng để thực hiện các hành động khác nhau dựa trên điều kiện đúng hoặc sai của một biểu thức điều kiện.\n",
    "\n",
    "Trong ví dụ này, chúng ta khởi tạo biến x với giá trị là 10. Sau đó, chúng ta sử dụng các câu lệnh if, if-else và if-elif-else để kiểm tra giá trị của biến x và thực hiện các hành động tương ứng.\n",
    "\n",
    "Trong ví dụ đầu tiên, chúng ta sử dụng câu lệnh if đơn giản để kiểm tra xem giá trị của biến x có lớn hơn 5 không. Nếu điều kiện đúng, chúng ta in ra thông báo \"x lớn hơn 5\".\n",
    "\n",
    "Trong ví dụ thứ hai, chúng ta sử dụng câu lệnh if-else để kiểm tra xem giá trị của biến x có phải là số chẵn hay không. Nếu điều kiện đúng, chúng ta in ra thông báo \"x là số chẵn\". Nếu điều kiện sai, chúng ta in ra thông báo \"x là số lẻ\".\n",
    "\n",
    "Trong ví dụ cuối cùng, chúng ta sử dụng câu lệnh if-elif-else để kiểm tra giá trị của biến x. Nếu giá trị của biến x lớn hơn 15, chúng ta in ra thông báo \"x lớn hơn 15\". Nếu giá trị của biến x lớn hơn 10 nhưng không lớn hơn 15, chúng ta in ra thông báo \"x lớn hơn 10 nhưng không lớn hơn 15\". Nếu giá trị của biến x không lớn hơn 10, chúng ta in ra thông báo \"x không lớn hơn 10\".\n",
    "\n",
    "Lưu ý rằng các câu lệnh trong mỗi khối if hoặc else được thụt đầu dòng để đánh dấu rõ ràng phạm vi của khối đó.\n",
    "\n",
    "\n"
   ]
  },
  {
   "cell_type": "code",
   "execution_count": 9,
   "metadata": {},
   "outputs": [
    {
     "name": "stdout",
     "output_type": "stream",
     "text": [
      "x lớn hơn 5\n",
      "x là số chẵn\n",
      "x không lớn hơn 10\n"
     ]
    }
   ],
   "source": [
    "x = 10\n",
    "\n",
    "# Ví dụ if đơn giản\n",
    "if x > 5:\n",
    "    print(\"x lớn hơn 5\")\n",
    "\n",
    "# Ví dụ if-else\n",
    "if x % 2 == 0:\n",
    "    print(\"x là số chẵn\")\n",
    "else:\n",
    "    print(\"x là số lẻ\")\n",
    "\n",
    "# Ví dụ if-elif-else\n",
    "if x > 15:\n",
    "    print(\"x lớn hơn 15\")\n",
    "elif x > 10:\n",
    "    print(\"x lớn hơn 10 nhưng không lớn hơn 15\")\n",
    "else:\n",
    "    print(\"x không lớn hơn 10\")"
   ]
  },
  {
   "attachments": {},
   "cell_type": "markdown",
   "metadata": {},
   "source": [
    "## Vòng lặp while\n",
    "### Được sử dụng để lặp lại một khối mã cho đến khi điều kiện lặp lại trở thành sai\n",
    "\n",
    "Cú pháp:\n",
    "```python\n",
    "while condition:\n",
    "    # Các câu lệnh trong khối lặp được thực thi nếu điều kiện đúng\n",
    "```\n",
    "Trong đó, condition là một biểu thức điều kiện và các câu lệnh trong khối lặp được thực thi cho đến khi điều kiện condition trả về False.\n",
    "\n",
    "Ví dụ: Giả sử chúng ta muốn tính tổng các số nguyên từ 1 đến 10 bằng vòng lặp while.\n",
    "\n",
    "Trong ví dụ này, chúng ta khởi tạo biến sum với giá trị ban đầu là 0 và biến i với giá trị ban đầu là 1. Tiếp theo, chúng ta sử dụng vòng lặp while để lặp lại các câu lệnh trong khối lặp cho đến khi biểu thức i <= 10 trả về False. Trong mỗi lần lặp, chúng ta cộng giá trị của biến i vào biến sum và tăng giá trị của biến i lên 1. Khi kết thúc vòng lặp, chúng ta in ra giá trị của biến sum, tức là tổng các số từ 1 đến 10.\n",
    "\n",
    "Lưu ý rằng điều kiện lặp lại trong vòng lặp while phải được cập nhật trong quá trình thực thi khối lặp, nếu không vòng lặp sẽ lặp vô hạn."
   ]
  },
  {
   "cell_type": "code",
   "execution_count": 10,
   "metadata": {},
   "outputs": [
    {
     "name": "stdout",
     "output_type": "stream",
     "text": [
      "Tổng các số từ 1 đến 10 là: 55\n"
     ]
    }
   ],
   "source": [
    "sum = 0\n",
    "i = 1\n",
    "\n",
    "while i <= 10:\n",
    "    sum += i\n",
    "    i += 1\n",
    "\n",
    "print(\"Tổng các số từ 1 đến 10 là:\", sum)"
   ]
  },
  {
   "attachments": {},
   "cell_type": "markdown",
   "metadata": {},
   "source": [
    "## Vòng lặp for\n",
    "### Được sử dụng để lặp qua các phần tử trong một chuỗi hoặc một tập hợp (list, tuple, set, dictionary, string, range, ...)\n",
    "\n",
    "Cú pháp\n",
    "\n",
    "```python\n",
    "for element in sequence:\n",
    "    # Các câu lệnh trong khối lặp được thực thi với mỗi phần tử trong sequence\n",
    "```\n",
    "Trong đó, element là biến lưu giữ giá trị của mỗi phần tử trong sequence và các câu lệnh trong khối lặp được thực thi với mỗi phần tử trong sequence.\n",
    "\n",
    "Ví dụ: Giả sử chúng ta có một danh sách các số nguyên và muốn tính tổng của chúng bằng vòng lặp for.\n",
    "\n",
    "Trong ví dụ này, chúng ta khởi tạo một danh sách numbers chứa các số nguyên từ 1 đến 10 và một biến sum với giá trị ban đầu là 0. Tiếp theo, chúng ta sử dụng vòng lặp for để lặp qua các phần tử trong danh sách numbers. Trong mỗi lần lặp, chúng ta cộng giá trị"
   ]
  },
  {
   "cell_type": "code",
   "execution_count": 11,
   "metadata": {},
   "outputs": [
    {
     "name": "stdout",
     "output_type": "stream",
     "text": [
      "Tổng các số trong danh sách là: 55\n"
     ]
    }
   ],
   "source": [
    "numbers = [1, 2, 3, 4, 5, 6, 7, 8, 9, 10]\n",
    "sum = 0\n",
    "\n",
    "for num in numbers:\n",
    "    sum += num\n",
    "\n",
    "print(\"Tổng các số trong danh sách là:\", sum)"
   ]
  },
  {
   "attachments": {},
   "cell_type": "markdown",
   "metadata": {},
   "source": [
    "## Function (hàm)\n",
    "### Là một khối mã có thể được gọi từ các phần khác của chương trình\n",
    "\n",
    "Cú pháp:\n",
    "```python\n",
    "def function_name(argument1, argument2, ...):\n",
    "    # Các câu lệnh trong khối hàm được thực thi khi hàm được gọi\n",
    "    return result\n",
    "```\n",
    "Trong đó, function_name là tên của hàm, argument1, argument2, ... là các tham số đầu vào của hàm và result là giá trị trả về của hàm.\n",
    "\n",
    "Lưu ý, tham số và giá trị trả về có thể có hoặc không\n",
    "\n",
    "Trong ví dụ này, chúng ta định nghĩa một hàm có tên là sum, nhận hai tham số đầu vào a và b và trả về tổng của hai tham số đó. Sau đó, chúng ta gọi hàm sum với tham số là 3 và 5 và lưu kết quả trả về vào biến result. Cuối cùng, chúng ta in ra giá trị của biến result.\n"
   ]
  },
  {
   "cell_type": "code",
   "execution_count": 12,
   "metadata": {},
   "outputs": [
    {
     "name": "stdout",
     "output_type": "stream",
     "text": [
      "Tổng của hai số là: 8\n"
     ]
    }
   ],
   "source": [
    "def sum(a, b):\n",
    "    return a + b\n",
    "\n",
    "result = sum(3, 5)\n",
    "print(\"Tổng của hai số là:\", result)"
   ]
  },
  {
   "attachments": {},
   "cell_type": "markdown",
   "metadata": {},
   "source": []
  }
 ],
 "metadata": {
  "kernelspec": {
   "display_name": "Python 3",
   "language": "python",
   "name": "python3"
  },
  "language_info": {
   "codemirror_mode": {
    "name": "ipython",
    "version": 3
   },
   "file_extension": ".py",
   "mimetype": "text/x-python",
   "name": "python",
   "nbconvert_exporter": "python",
   "pygments_lexer": "ipython3",
   "version": "3.10.10"
  },
  "orig_nbformat": 4
 },
 "nbformat": 4,
 "nbformat_minor": 2
}
